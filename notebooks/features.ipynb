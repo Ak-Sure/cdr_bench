{
 "cells": [
  {
   "cell_type": "code",
   "execution_count": 146,
   "id": "bd113957-c0bb-4b9a-aa96-de796138a76b",
   "metadata": {},
   "outputs": [
    {
     "name": "stdout",
     "output_type": "stream",
     "text": [
      "The autoreload extension is already loaded. To reload it, use:\n",
      "  %reload_ext autoreload\n"
     ]
    }
   ],
   "source": [
    "%load_ext autoreload\n",
    "%autoreload 2\n",
    "from pathlib import Path\n",
    "import pandas as pd\n",
    "import numpy as np\n",
    "from rdkit import Chem\n",
    "from rdkit.Chem.Scaffolds import MurckoScaffold\n",
    "from tqdm import tqdm\n",
    "from src.cdr_bench.io_utils.io import read_features_hdf5_dataframe\n",
    "from src.cdr_bench.features.physchem import calculate_descriptors\n",
    "from src.cdr_bench.scoring.scoring import tanimoto_int_similarity_matrix_numba, euclidean_distance_square_numba\n",
    "from src.cdr_bench.scoring.network_stat import generate_networks_for_thresholds, calculate_network_metrics\n",
    "from src.cdr_bench.scoring.scaffold_stat import calculate_scaffold_frequencies_and_f50\n",
    "from src.cdr_bench.scoring.chemsim_stat import calculate_similarity_statistics"
   ]
  },
  {
   "cell_type": "code",
   "execution_count": 144,
   "id": "5a22626e-a185-4169-8d07-bd7fc348b472",
   "metadata": {},
   "outputs": [
    {
     "name": "stdout",
     "output_type": "stream",
     "text": [
      "INFO: Pandarallel will run on 24 workers.\n",
      "INFO: Pandarallel will use Memory file system to transfer data between the main process and workers.\n"
     ]
    }
   ],
   "source": [
    "from pandarallel import pandarallel\n",
    "pandarallel.initialize(progress_bar=True)"
   ]
  },
  {
   "cell_type": "markdown",
   "id": "ddcaf5e3b5fb1acf",
   "metadata": {},
   "source": [
    "# Calculate diversity in the datasets and perform scaffold analysis"
   ]
  },
  {
   "cell_type": "markdown",
   "id": "12f9d23b-4891-4869-bce7-9257cfcae6b6",
   "metadata": {},
   "source": [
    "## Set up a path to the datasets"
   ]
  },
  {
   "cell_type": "code",
   "execution_count": 118,
   "id": "5e9b7ac8-e6dd-4657-a2fa-7275bc884330",
   "metadata": {},
   "outputs": [],
   "source": [
    "path_2_datasets = Path('../datasets/')"
   ]
  },
  {
   "cell_type": "markdown",
   "id": "297558d2-2aa0-469a-993f-5c775ef7c893",
   "metadata": {},
   "source": [
    "## Set up some threshold values used for calculations"
   ]
  },
  {
   "cell_type": "code",
   "execution_count": null,
   "id": "95cfd515-d34e-44a7-8f27-95e1c37e1df8",
   "metadata": {},
   "outputs": [],
   "source": [
    "similarity_thresholds = [0.7]#[0.5, 0.6, 0.7, 0.8, 0.9]"
   ]
  },
  {
   "cell_type": "markdown",
   "id": "7e9f6fb0-be9c-40df-95da-93dc9e8b0cb7",
   "metadata": {},
   "source": [
    "## Iterate over a directory to get the results"
   ]
  },
  {
   "cell_type": "code",
   "execution_count": null,
   "id": "940a8175-18cc-4beb-a8b2-4ac23177ffa0",
   "metadata": {},
   "outputs": [],
   "source": [
    "network_analysis_ls = []\n",
    "chemdiv_analysis_ls = []"
   ]
  },
  {
   "cell_type": "code",
   "execution_count": null,
   "id": "38e257945b2020e1",
   "metadata": {},
   "outputs": [],
   "source": [
    "for dataset in tqdm(path_2_datasets.glob('*.h5')):\n",
    "    # Read and preprocess the data\n",
    "    df_features = read_features_hdf5_dataframe(dataset)\n",
    "    df_features.reset_index(inplace=True)\n",
    "    df_features.rename(columns={'index': 'cid'}, inplace=True)\n",
    "    dataset_name = dataset.stem\n",
    "\n",
    "    # Prepare molecule and scaffold data\n",
    "    df_features['mol'] = df_features['smi'].parallel_apply(lambda x: Chem.MolFromSmiles(x))\n",
    "    df_features['scaffold'] = df_features['mol'].parallel_apply(lambda x: Chem.MolToSmiles(MurckoScaffold.GetScaffoldForMol(x)))\n",
    "\n",
    "    # Calculate physicochemical descriptors and diversity\n",
    "    physchem_descriptors = np.vstack(df_features['mol'].parallel_apply(lambda x: calculate_descriptors(x)).values)\n",
    "    intra_dataset_distances = euclidean_distance_square_numba(physchem_descriptors)\n",
    "    physchem_sim = calculate_similarity_statistics(intra_dataset_distances)\n",
    "    physchem_sim_prefixed = {f\"{key}_physchem\": value for key, value in physchem_sim.items()}\n",
    "\n",
    "    # Calculate scaffold frequencies and F50\n",
    "    f50 = calculate_scaffold_frequencies_and_f50(df_features['scaffold'].tolist())\n",
    "\n",
    "    # Initialize chemdiv_df with dataset name and F50 metric\n",
    "    chemdiv_df = pd.DataFrame({'Dataset': [dataset_name], 'F50': [f50]})\n",
    "    chemdiv_df = chemdiv_df.assign(**physchem_sim_prefixed)\n",
    "\n",
    "    # Process Morgan and MACCS descriptors\n",
    "    for desc in ['mfp_r2_1024', 'maccs_keys']:\n",
    "        fingerprints = np.vstack(df_features[desc].tolist()).astype(np.float64)\n",
    "\n",
    "        # Calculate similarity matrix and statistics\n",
    "        sim_mat = tanimoto_int_similarity_matrix_numba(fingerprints, fingerprints)\n",
    "        similarity_stats = calculate_similarity_statistics(sim_mat)\n",
    "        similarity_stats_prefixed = {f\"{key}_{desc}\": value for key, value in similarity_stats.items()}\n",
    "\n",
    "        # Update chemdiv_df with similarity statistics for current descriptor\n",
    "        chemdiv_df = chemdiv_df.assign(**similarity_stats_prefixed)\n",
    "\n",
    "        # Generate networks and calculate metrics for each threshold\n",
    "        networks = generate_networks_for_thresholds(sim_mat, df_features[\"cid\"].tolist(), similarity_thresholds)\n",
    "        network_metrics_ls = []\n",
    "        for threshold in similarity_thresholds:\n",
    "            network_metrics = calculate_network_metrics(networks[threshold], name=dataset_name)\n",
    "            network_metrics['Threshold'] = threshold\n",
    "            network_metrics_ls.append(network_metrics)\n",
    "        network_metrics['desc_type'] = desc\n",
    "        \n",
    "        # Collect network metrics\n",
    "        df_network = pd.DataFrame(network_metrics_ls)\n",
    "        network_analysis_ls.append(df_network)\n",
    "\n",
    "    # Store chemdiv_df with current dataset's metrics in chemdiv_analysis_ls\n",
    "    chemdiv_analysis_ls.append(chemdiv_df)\n",
    "\n",
    "# After the loop, consolidate chemdiv_analysis_ls into a single DataFrame if desired\n",
    "chemdiv_final_df = pd.concat(chemdiv_analysis_ls, ignore_index=True)\n"
   ]
  },
  {
   "cell_type": "code",
   "execution_count": 149,
   "id": "2900e4b4-19c6-41b9-b4c3-810fd1df4597",
   "metadata": {},
   "outputs": [
    {
     "data": {
      "application/vnd.jupyter.widget-view+json": {
       "model_id": "3f27f481c89f445aa3e37423f2f4499b",
       "version_major": 2,
       "version_minor": 0
      },
      "text/plain": [
       "VBox(children=(HBox(children=(IntProgress(value=0, description='0.00%', max=168), Label(value='0 / 168'))), HB…"
      ]
     },
     "metadata": {},
     "output_type": "display_data"
    },
    {
     "data": {
      "text/plain": [
       "0       O=C(C=Cc1ccccc1-n1cnnn1)NC(CC(=O)N1CCNCC1)c1nc...\n",
       "1                                    c1ccc(COc2ccccc2)cc1\n",
       "2                   O=C(CCCc1cccc[nH+]1)NCC(=O)NCc1ccccc1\n",
       "3         O=C(Nc1ccccc1C(=O)Nc1ccccn1)c1cc(CNC2=NCCS2)cs1\n",
       "4             O=C(NCB1OC2CC3CC(C3)C2O1)c1ccc(-c2ccccc2)o1\n",
       "                              ...                        \n",
       "4015    O=C(CNS(=O)(=O)Cc1ccccc1)NCC(=O)NC(CC1CCCCC1)C...\n",
       "4016                      O=C(c1ccccc1)n1cnc(-c2cccnc2)n1\n",
       "4017                      c1ccc(NCc2cccc(OC3CCCCC3)c2)cc1\n",
       "4018    O=C(C(Cc1nc2ccccc2s1)NS(=O)(=O)c1cccc2c1NCCC2)...\n",
       "4019      O=C(NCc1ccccc1)C1CCCN1C(=O)CC(c1ccccc1)c1ccccc1\n",
       "Name: smi, Length: 4020, dtype: object"
      ]
     },
     "execution_count": 149,
     "metadata": {},
     "output_type": "execute_result"
    }
   ],
   "source": [
    "df_features['smi'].parallel_apply(lambda x: Chem.MolToSmiles(MurckoScaffold.GetScaffoldForMol(Chem.MolFromSmiles(x))))"
   ]
  },
  {
   "cell_type": "code",
   "execution_count": null,
   "id": "15286841-6138-4be9-a8ef-0ee62f69529c",
   "metadata": {},
   "outputs": [],
   "source": [
    "df_features['smi'].parallel_apply(Chem.MolToSmiles(MurckoScaffold.GetScaffoldForMol(Chem.MolFromSmiles)))"
   ]
  },
  {
   "cell_type": "code",
   "execution_count": 152,
   "id": "07cd1ada-1a77-4801-a622-ef8206482a58",
   "metadata": {},
   "outputs": [
    {
     "data": {
      "application/vnd.jupyter.widget-view+json": {
       "model_id": "08749e33587644b48dee7455788bdca2",
       "version_major": 2,
       "version_minor": 0
      },
      "text/plain": [
       "VBox(children=(HBox(children=(IntProgress(value=0, description='0.00%', max=168), Label(value='0 / 168'))), HB…"
      ]
     },
     "metadata": {},
     "output_type": "display_data"
    }
   ],
   "source": []
  },
  {
   "cell_type": "code",
   "execution_count": 154,
   "id": "db138c48-df0f-4f15-ade1-344189e0e55d",
   "metadata": {},
   "outputs": [
    {
     "data": {
      "text/plain": [
       "array([[ 4.00000e+00,  1.00000e+01,  2.94110e+00,  6.63526e+02,\n",
       "         1.78020e+02,  8.00000e+00],\n",
       "       [ 2.00000e+00,  4.00000e+00,  3.62092e+00,  3.94397e+02,\n",
       "         9.52200e+01,  8.00000e+00],\n",
       "       [ 5.00000e+00,  6.00000e+00, -1.59900e-01,  4.63922e+02,\n",
       "         1.60490e+02,  1.20000e+01],\n",
       "       ...,\n",
       "       [ 5.00000e+00,  6.00000e+00,  3.28947e+00,  4.27501e+02,\n",
       "         1.37890e+02,  9.00000e+00],\n",
       "       [ 4.00000e+00,  8.00000e+00,  2.86260e+00,  6.48877e+02,\n",
       "         1.49600e+02,  1.10000e+01],\n",
       "       [ 6.00000e+00,  8.00000e+00,  2.77387e+00,  5.95637e+02,\n",
       "         1.70230e+02,  1.20000e+01]])"
      ]
     },
     "execution_count": 154,
     "metadata": {},
     "output_type": "execute_result"
    }
   ],
   "source": [
    "descriptors"
   ]
  },
  {
   "cell_type": "code",
   "execution_count": 133,
   "id": "73823b52-33a8-4f3a-81fe-aa51b77963d3",
   "metadata": {},
   "outputs": [],
   "source": [
    "df_network = pd.concat(network_analysis_ls)"
   ]
  },
  {
   "cell_type": "code",
   "execution_count": 134,
   "id": "def85f8a-51f9-4b80-970f-b8123ba5117d",
   "metadata": {},
   "outputs": [
    {
     "data": {
      "text/html": [
       "<div>\n",
       "<style scoped>\n",
       "    .dataframe tbody tr th:only-of-type {\n",
       "        vertical-align: middle;\n",
       "    }\n",
       "\n",
       "    .dataframe tbody tr th {\n",
       "        vertical-align: top;\n",
       "    }\n",
       "\n",
       "    .dataframe thead th {\n",
       "        text-align: right;\n",
       "    }\n",
       "</style>\n",
       "<table border=\"1\" class=\"dataframe\">\n",
       "  <thead>\n",
       "    <tr style=\"text-align: right;\">\n",
       "      <th></th>\n",
       "      <th>Network</th>\n",
       "      <th>Density</th>\n",
       "      <th>Degree Centrality Std Dev</th>\n",
       "      <th>Assortativity Coefficient</th>\n",
       "      <th>Network Entropy</th>\n",
       "      <th>Threshold</th>\n",
       "    </tr>\n",
       "  </thead>\n",
       "  <tbody>\n",
       "    <tr>\n",
       "      <th>0</th>\n",
       "      <td>CHEMBL234</td>\n",
       "      <td>0.379930</td>\n",
       "      <td>0.220073</td>\n",
       "      <td>0.261169</td>\n",
       "      <td>7.224744</td>\n",
       "      <td>0.5</td>\n",
       "    </tr>\n",
       "    <tr>\n",
       "      <th>1</th>\n",
       "      <td>CHEMBL234</td>\n",
       "      <td>0.157564</td>\n",
       "      <td>0.133576</td>\n",
       "      <td>0.340882</td>\n",
       "      <td>6.808258</td>\n",
       "      <td>0.6</td>\n",
       "    </tr>\n",
       "    <tr>\n",
       "      <th>2</th>\n",
       "      <td>CHEMBL234</td>\n",
       "      <td>0.041935</td>\n",
       "      <td>0.049251</td>\n",
       "      <td>0.419548</td>\n",
       "      <td>5.699516</td>\n",
       "      <td>0.7</td>\n",
       "    </tr>\n",
       "    <tr>\n",
       "      <th>3</th>\n",
       "      <td>CHEMBL234</td>\n",
       "      <td>0.006497</td>\n",
       "      <td>0.008271</td>\n",
       "      <td>0.518956</td>\n",
       "      <td>4.052387</td>\n",
       "      <td>0.8</td>\n",
       "    </tr>\n",
       "    <tr>\n",
       "      <th>4</th>\n",
       "      <td>CHEMBL234</td>\n",
       "      <td>0.000729</td>\n",
       "      <td>0.001075</td>\n",
       "      <td>0.671226</td>\n",
       "      <td>2.079250</td>\n",
       "      <td>0.9</td>\n",
       "    </tr>\n",
       "    <tr>\n",
       "      <th>0</th>\n",
       "      <td>CHEMBL227</td>\n",
       "      <td>0.494308</td>\n",
       "      <td>0.259642</td>\n",
       "      <td>0.288846</td>\n",
       "      <td>5.612461</td>\n",
       "      <td>0.5</td>\n",
       "    </tr>\n",
       "    <tr>\n",
       "      <th>1</th>\n",
       "      <td>CHEMBL227</td>\n",
       "      <td>0.291515</td>\n",
       "      <td>0.212914</td>\n",
       "      <td>0.348237</td>\n",
       "      <td>5.598981</td>\n",
       "      <td>0.6</td>\n",
       "    </tr>\n",
       "    <tr>\n",
       "      <th>2</th>\n",
       "      <td>CHEMBL227</td>\n",
       "      <td>0.117446</td>\n",
       "      <td>0.115009</td>\n",
       "      <td>0.392371</td>\n",
       "      <td>5.103360</td>\n",
       "      <td>0.7</td>\n",
       "    </tr>\n",
       "    <tr>\n",
       "      <th>3</th>\n",
       "      <td>CHEMBL227</td>\n",
       "      <td>0.030218</td>\n",
       "      <td>0.034529</td>\n",
       "      <td>0.588772</td>\n",
       "      <td>3.984565</td>\n",
       "      <td>0.8</td>\n",
       "    </tr>\n",
       "    <tr>\n",
       "      <th>4</th>\n",
       "      <td>CHEMBL227</td>\n",
       "      <td>0.005691</td>\n",
       "      <td>0.007972</td>\n",
       "      <td>0.722940</td>\n",
       "      <td>2.538729</td>\n",
       "      <td>0.9</td>\n",
       "    </tr>\n",
       "    <tr>\n",
       "      <th>0</th>\n",
       "      <td>CHEMBL228</td>\n",
       "      <td>0.206067</td>\n",
       "      <td>0.157647</td>\n",
       "      <td>0.218926</td>\n",
       "      <td>6.852650</td>\n",
       "      <td>0.5</td>\n",
       "    </tr>\n",
       "    <tr>\n",
       "      <th>1</th>\n",
       "      <td>CHEMBL228</td>\n",
       "      <td>0.053005</td>\n",
       "      <td>0.053866</td>\n",
       "      <td>0.377379</td>\n",
       "      <td>5.822650</td>\n",
       "      <td>0.6</td>\n",
       "    </tr>\n",
       "    <tr>\n",
       "      <th>2</th>\n",
       "      <td>CHEMBL228</td>\n",
       "      <td>0.010124</td>\n",
       "      <td>0.011266</td>\n",
       "      <td>0.639030</td>\n",
       "      <td>4.350517</td>\n",
       "      <td>0.7</td>\n",
       "    </tr>\n",
       "    <tr>\n",
       "      <th>3</th>\n",
       "      <td>CHEMBL228</td>\n",
       "      <td>0.002759</td>\n",
       "      <td>0.003184</td>\n",
       "      <td>0.782667</td>\n",
       "      <td>3.123090</td>\n",
       "      <td>0.8</td>\n",
       "    </tr>\n",
       "    <tr>\n",
       "      <th>4</th>\n",
       "      <td>CHEMBL228</td>\n",
       "      <td>0.000492</td>\n",
       "      <td>0.000849</td>\n",
       "      <td>0.815257</td>\n",
       "      <td>1.594434</td>\n",
       "      <td>0.9</td>\n",
       "    </tr>\n",
       "    <tr>\n",
       "      <th>0</th>\n",
       "      <td>CHEMBL216</td>\n",
       "      <td>0.168481</td>\n",
       "      <td>0.144228</td>\n",
       "      <td>0.199434</td>\n",
       "      <td>6.023561</td>\n",
       "      <td>0.5</td>\n",
       "    </tr>\n",
       "    <tr>\n",
       "      <th>1</th>\n",
       "      <td>CHEMBL216</td>\n",
       "      <td>0.043867</td>\n",
       "      <td>0.044903</td>\n",
       "      <td>0.376604</td>\n",
       "      <td>4.976245</td>\n",
       "      <td>0.6</td>\n",
       "    </tr>\n",
       "    <tr>\n",
       "      <th>2</th>\n",
       "      <td>CHEMBL216</td>\n",
       "      <td>0.011045</td>\n",
       "      <td>0.010263</td>\n",
       "      <td>0.604064</td>\n",
       "      <td>3.725157</td>\n",
       "      <td>0.7</td>\n",
       "    </tr>\n",
       "    <tr>\n",
       "      <th>3</th>\n",
       "      <td>CHEMBL216</td>\n",
       "      <td>0.004201</td>\n",
       "      <td>0.004811</td>\n",
       "      <td>0.750281</td>\n",
       "      <td>2.833594</td>\n",
       "      <td>0.8</td>\n",
       "    </tr>\n",
       "    <tr>\n",
       "      <th>4</th>\n",
       "      <td>CHEMBL216</td>\n",
       "      <td>0.000921</td>\n",
       "      <td>0.001559</td>\n",
       "      <td>0.742578</td>\n",
       "      <td>1.531745</td>\n",
       "      <td>0.9</td>\n",
       "    </tr>\n",
       "    <tr>\n",
       "      <th>0</th>\n",
       "      <td>CHEMBL204</td>\n",
       "      <td>0.313048</td>\n",
       "      <td>0.203091</td>\n",
       "      <td>0.162145</td>\n",
       "      <td>7.451979</td>\n",
       "      <td>0.5</td>\n",
       "    </tr>\n",
       "    <tr>\n",
       "      <th>1</th>\n",
       "      <td>CHEMBL204</td>\n",
       "      <td>0.103919</td>\n",
       "      <td>0.105683</td>\n",
       "      <td>0.251845</td>\n",
       "      <td>6.663244</td>\n",
       "      <td>0.6</td>\n",
       "    </tr>\n",
       "    <tr>\n",
       "      <th>2</th>\n",
       "      <td>CHEMBL204</td>\n",
       "      <td>0.019986</td>\n",
       "      <td>0.028024</td>\n",
       "      <td>0.511399</td>\n",
       "      <td>5.177510</td>\n",
       "      <td>0.7</td>\n",
       "    </tr>\n",
       "    <tr>\n",
       "      <th>3</th>\n",
       "      <td>CHEMBL204</td>\n",
       "      <td>0.003723</td>\n",
       "      <td>0.004651</td>\n",
       "      <td>0.764116</td>\n",
       "      <td>3.692220</td>\n",
       "      <td>0.8</td>\n",
       "    </tr>\n",
       "    <tr>\n",
       "      <th>4</th>\n",
       "      <td>CHEMBL204</td>\n",
       "      <td>0.000680</td>\n",
       "      <td>0.000996</td>\n",
       "      <td>0.805806</td>\n",
       "      <td>2.126238</td>\n",
       "      <td>0.9</td>\n",
       "    </tr>\n",
       "  </tbody>\n",
       "</table>\n",
       "</div>"
      ],
      "text/plain": [
       "     Network   Density  Degree Centrality Std Dev  Assortativity Coefficient  \\\n",
       "0  CHEMBL234  0.379930                   0.220073                   0.261169   \n",
       "1  CHEMBL234  0.157564                   0.133576                   0.340882   \n",
       "2  CHEMBL234  0.041935                   0.049251                   0.419548   \n",
       "3  CHEMBL234  0.006497                   0.008271                   0.518956   \n",
       "4  CHEMBL234  0.000729                   0.001075                   0.671226   \n",
       "0  CHEMBL227  0.494308                   0.259642                   0.288846   \n",
       "1  CHEMBL227  0.291515                   0.212914                   0.348237   \n",
       "2  CHEMBL227  0.117446                   0.115009                   0.392371   \n",
       "3  CHEMBL227  0.030218                   0.034529                   0.588772   \n",
       "4  CHEMBL227  0.005691                   0.007972                   0.722940   \n",
       "0  CHEMBL228  0.206067                   0.157647                   0.218926   \n",
       "1  CHEMBL228  0.053005                   0.053866                   0.377379   \n",
       "2  CHEMBL228  0.010124                   0.011266                   0.639030   \n",
       "3  CHEMBL228  0.002759                   0.003184                   0.782667   \n",
       "4  CHEMBL228  0.000492                   0.000849                   0.815257   \n",
       "0  CHEMBL216  0.168481                   0.144228                   0.199434   \n",
       "1  CHEMBL216  0.043867                   0.044903                   0.376604   \n",
       "2  CHEMBL216  0.011045                   0.010263                   0.604064   \n",
       "3  CHEMBL216  0.004201                   0.004811                   0.750281   \n",
       "4  CHEMBL216  0.000921                   0.001559                   0.742578   \n",
       "0  CHEMBL204  0.313048                   0.203091                   0.162145   \n",
       "1  CHEMBL204  0.103919                   0.105683                   0.251845   \n",
       "2  CHEMBL204  0.019986                   0.028024                   0.511399   \n",
       "3  CHEMBL204  0.003723                   0.004651                   0.764116   \n",
       "4  CHEMBL204  0.000680                   0.000996                   0.805806   \n",
       "\n",
       "   Network Entropy  Threshold  \n",
       "0         7.224744        0.5  \n",
       "1         6.808258        0.6  \n",
       "2         5.699516        0.7  \n",
       "3         4.052387        0.8  \n",
       "4         2.079250        0.9  \n",
       "0         5.612461        0.5  \n",
       "1         5.598981        0.6  \n",
       "2         5.103360        0.7  \n",
       "3         3.984565        0.8  \n",
       "4         2.538729        0.9  \n",
       "0         6.852650        0.5  \n",
       "1         5.822650        0.6  \n",
       "2         4.350517        0.7  \n",
       "3         3.123090        0.8  \n",
       "4         1.594434        0.9  \n",
       "0         6.023561        0.5  \n",
       "1         4.976245        0.6  \n",
       "2         3.725157        0.7  \n",
       "3         2.833594        0.8  \n",
       "4         1.531745        0.9  \n",
       "0         7.451979        0.5  \n",
       "1         6.663244        0.6  \n",
       "2         5.177510        0.7  \n",
       "3         3.692220        0.8  \n",
       "4         2.126238        0.9  "
      ]
     },
     "execution_count": 134,
     "metadata": {},
     "output_type": "execute_result"
    }
   ],
   "source": [
    "df_network"
   ]
  },
  {
   "cell_type": "code",
   "execution_count": 75,
   "id": "462ad520-9a82-4e5c-b666-e27d750037ce",
   "metadata": {},
   "outputs": [
    {
     "data": {
      "text/plain": [
       "(4020, 1024)"
      ]
     },
     "execution_count": 75,
     "metadata": {},
     "output_type": "execute_result"
    }
   ],
   "source": [
    "fingerprints.shape"
   ]
  },
  {
   "cell_type": "code",
   "execution_count": 76,
   "id": "a075a0fd-5ef3-4496-b5e3-16807d780f07",
   "metadata": {},
   "outputs": [],
   "source": []
  },
  {
   "cell_type": "code",
   "execution_count": 78,
   "id": "2fda66c2-45dc-464b-8760-f43ff243b358",
   "metadata": {},
   "outputs": [
    {
     "data": {
      "text/plain": [
       "(4020, 4020)"
      ]
     },
     "execution_count": 78,
     "metadata": {},
     "output_type": "execute_result"
    }
   ],
   "source": [
    "sim_mat.shape"
   ]
  },
  {
   "cell_type": "code",
   "execution_count": 79,
   "id": "f3a7fe00-c0ba-4550-942f-66fe06a973ed",
   "metadata": {},
   "outputs": [],
   "source": []
  },
  {
   "cell_type": "code",
   "execution_count": 108,
   "id": "86e799d1-3cb8-4d02-b394-8d50e6bb60d9",
   "metadata": {},
   "outputs": [],
   "source": []
  },
  {
   "cell_type": "code",
   "execution_count": 109,
   "id": "7968dfda-e8e7-441c-b039-f2b4895c0a85",
   "metadata": {},
   "outputs": [],
   "source": []
  },
  {
   "cell_type": "code",
   "execution_count": 110,
   "id": "59b9dbe3-0d23-48e9-8e71-c1303eddb5b0",
   "metadata": {},
   "outputs": [
    {
     "data": {
      "text/plain": [
       "{'Network': b'CHEMBL204',\n",
       " 'Density': 0.313047848589845,\n",
       " 'Degree Centrality Std Dev': 0.20309078379706985}"
      ]
     },
     "execution_count": 110,
     "metadata": {},
     "output_type": "execute_result"
    }
   ],
   "source": [
    "network_metrics"
   ]
  },
  {
   "cell_type": "markdown",
   "id": "f7388667-bd9a-47e5-b85b-52041138c8c6",
   "metadata": {},
   "source": [
    "# Read optimization results"
   ]
  },
  {
   "cell_type": "markdown",
   "id": "bcf107ac-6391-4a1e-a7d1-568120d2ac6f",
   "metadata": {},
   "source": [
    "## HDF5 File Structure (ambient_dist_and_PCA_results.h5)\n",
    "\n",
    "This HDF5 file contains datasets related to high-dimensional data and the results of Principal Component Analysis (PCA) performed on this data.\n",
    "\n",
    "### Datasets\n",
    "1. **X_HD**: \n",
    "   - A high-dimensional dataset with a shape of **(4020, 1024)**.\n",
    "   - It contains 4020 samples, each with 1024 features.\n",
    "   - This is the original high-dimensional feature representation of the data.\n",
    "\n",
    "2. **X_PCA**: \n",
    "   - A PCA-transformed dataset with a shape of **(4020, 2)**.\n",
    "   - It contains the same 4020 samples, but each sample has been reduced to 2 principal components using PCA.\n",
    "   - This reduced dataset is typically used for visualization or as input for further machine learning analysis.\n",
    "\n",
    "The file likely stores high-dimensional data and the results of PCA to enable comparison between the original and PCA-reduced data.\n"
   ]
  },
  {
   "cell_type": "markdown",
   "id": "d6d7559b-d2bd-4076-8d25-fd6dfa3074b7",
   "metadata": {},
   "source": [
    "## HDF5 File Structure (mfp_r2_1024.h5)\n",
    "\n",
    "This HDF5 file contains datasets and groups related to various dimensionality reduction techniques applied to the Morgan Fingerprint (radius 2, 1024 bits).\n",
    "\n",
    "### Datasets and Groups:\n",
    "\n",
    "1. **GTM_coordinates**:\n",
    "   - Coordinates of the data after applying Generative Topographic Mapping (GTM).\n",
    "   - These are likely 2D or 3D coordinates for visualization or analysis.\n",
    "\n",
    "2. **GTM_metrics**:\n",
    "   - Performance or quality metrics related to the GTM method.\n",
    "   - Could contain measures like reconstruction error, stress, or variance explained.\n",
    "\n",
    "3. **PCA_coordinates**:\n",
    "   - Coordinates of the data after applying Principal Component Analysis (PCA).\n",
    "   - This dataset contains the principal component scores, often used to visualize the data in reduced dimensions.\n",
    "\n",
    "4. **PCA_metrics**:\n",
    "   - Metrics associated with the PCA method, likely showing the explained variance or other statistics for each principal component.\n",
    "\n",
    "5. **UMAP_coordinates**:\n",
    "   - Coordinates after applying Uniform Manifold Approximation and Projection (UMAP).\n",
    "   - These coordinates represent the data in a lower-dimensional space, typically for clustering or visualization.\n",
    "\n",
    "6. **UMAP_metrics**:\n",
    "   - Performance metrics for the UMAP method, possibly including measures like neighborhood preservation.\n",
    "\n",
    "7. **dataframe**:\n",
    "   - A tabular dataset, possibly containing metadata or other information related to the features or molecules analyzed in the file.\n",
    "\n",
    "8. **mfp_r2_1024**:\n",
    "   - The original Morgan Fingerprint dataset (radius 2, 1024 bits).\n",
    "   - It encodes molecular features in a binary vector format, used for cheminformatics and molecular modeling.\n",
    "\n",
    "9. **t-SNE_coordinates**:\n",
    "   - Coordinates after applying t-Distributed Stochastic Neighbor Embedding (t-SNE).\n",
    "   - These coordinates are typically used for visualizing high-dimensional data in 2D or 3D.\n",
    "\n",
    "10. **t-SNE_metrics**:\n",
    "   - Metrics related to the t-SNE method, possibly including perplexity, KL divergence, or neighborhood preservation.\n",
    "\n",
    "This file organizes molecular data and its corresponding projections in various dimensionality reduction methods, enabling analysis and comparison of the techniques.\n"
   ]
  },
  {
   "cell_type": "code",
   "execution_count": 10,
   "id": "c64264b7-bb44-44f1-ad43-ead58aac6c8d",
   "metadata": {},
   "outputs": [],
   "source": [
    "file_path = '../results/in_sample_eucl/CHEMBL204/mfp_r2_1024/mfp_r2_1024.h5'\n",
    "descriptor_set = 'mfp_r2_1024'\n",
    "methods_to_extract = ['PCA', 't-SNE', 'UMAP', 'GTM']\n",
    "df, fp_array, results = read_optimization_results(file_path, feature_name=descriptor_set, method_names=methods_to_extract)"
   ]
  },
  {
   "cell_type": "code",
   "execution_count": 11,
   "id": "1acd5aff-c40b-4f7b-81c9-635f2e5cd773",
   "metadata": {},
   "outputs": [
    {
     "data": {
      "text/html": [
       "<div>\n",
       "<style scoped>\n",
       "    .dataframe tbody tr th:only-of-type {\n",
       "        vertical-align: middle;\n",
       "    }\n",
       "\n",
       "    .dataframe tbody tr th {\n",
       "        vertical-align: top;\n",
       "    }\n",
       "\n",
       "    .dataframe thead th {\n",
       "        text-align: right;\n",
       "    }\n",
       "</style>\n",
       "<table border=\"1\" class=\"dataframe\">\n",
       "  <thead>\n",
       "    <tr style=\"text-align: right;\">\n",
       "      <th></th>\n",
       "      <th>dataset</th>\n",
       "      <th>smi</th>\n",
       "    </tr>\n",
       "  </thead>\n",
       "  <tbody>\n",
       "    <tr>\n",
       "      <th>0</th>\n",
       "      <td>CHEMBL204</td>\n",
       "      <td>CN1CCN(CC1)C(=O)CC(NC(=O)C=Cc1cc(Cl)ccc1-n1cnn...</td>\n",
       "    </tr>\n",
       "    <tr>\n",
       "      <th>1</th>\n",
       "      <td>CHEMBL204</td>\n",
       "      <td>Cc1cc(OCCC=NN=C(N)N)cc(OCc2ccccc2C(F)(F)F)c1</td>\n",
       "    </tr>\n",
       "    <tr>\n",
       "      <th>2</th>\n",
       "      <td>CHEMBL204</td>\n",
       "      <td>NCc1ccc(Cl)cc1CNC(=O)CNC(=O)C(CCc1cccc[n+]1[O-...</td>\n",
       "    </tr>\n",
       "    <tr>\n",
       "      <th>3</th>\n",
       "      <td>CHEMBL204</td>\n",
       "      <td>COc1cc(Cl)cc(C(=O)Nc2ccc(Cl)cn2)c1NC(=O)c1scc(...</td>\n",
       "    </tr>\n",
       "    <tr>\n",
       "      <th>4</th>\n",
       "      <td>CHEMBL204</td>\n",
       "      <td>CC1(C)C2CC1C1(C)OB(OC1C2)C(CCCN=C(N)N)NC(=O)c1...</td>\n",
       "    </tr>\n",
       "  </tbody>\n",
       "</table>\n",
       "</div>"
      ],
      "text/plain": [
       "     dataset                                                smi\n",
       "0  CHEMBL204  CN1CCN(CC1)C(=O)CC(NC(=O)C=Cc1cc(Cl)ccc1-n1cnn...\n",
       "1  CHEMBL204       Cc1cc(OCCC=NN=C(N)N)cc(OCc2ccccc2C(F)(F)F)c1\n",
       "2  CHEMBL204  NCc1ccc(Cl)cc1CNC(=O)CNC(=O)C(CCc1cccc[n+]1[O-...\n",
       "3  CHEMBL204  COc1cc(Cl)cc(C(=O)Nc2ccc(Cl)cn2)c1NC(=O)c1scc(...\n",
       "4  CHEMBL204  CC1(C)C2CC1C1(C)OB(OC1C2)C(CCCN=C(N)N)NC(=O)c1..."
      ]
     },
     "execution_count": 11,
     "metadata": {},
     "output_type": "execute_result"
    }
   ],
   "source": [
    "df.head()"
   ]
  },
  {
   "cell_type": "code",
   "execution_count": 13,
   "id": "597e537d-2c63-4659-a6d0-7b6bada53b08",
   "metadata": {},
   "outputs": [
    {
     "data": {
      "text/plain": [
       "(4020, 1024)"
      ]
     },
     "execution_count": 13,
     "metadata": {},
     "output_type": "execute_result"
    }
   ],
   "source": [
    "fp_array.shape"
   ]
  },
  {
   "cell_type": "code",
   "execution_count": 15,
   "id": "fe6df27d-021e-40bb-93bc-d39beed4ce1a",
   "metadata": {},
   "outputs": [
    {
     "data": {
      "text/plain": [
       "{'PCA': {'metrics': {'AUC': (np.float64(0.5479564052076352),\n",
       "    np.float64(0.0006813930286349295)),\n",
       "   'LCMC': (array([ 2.42665066e-02,  4.45996799e-02,  5.63995198e-02, ...,\n",
       "           -6.41025333e-07, -1.60192179e-07,  0.00000000e+00]),\n",
       "    array([0.00475908, 0.00256645, 0.00131993, ..., 0.        , 0.        ,\n",
       "           0.        ])),\n",
       "   'QNN': (array([0.02466667, 0.0454    , 0.0576    , ..., 0.99919904, 0.99959968,\n",
       "           1.        ]),\n",
       "    array([0.00475908, 0.00256645, 0.00131993, ..., 0.        , 0.        ,\n",
       "           0.        ])),\n",
       "   'Qglobal': (np.float64(0.5526558292306168),\n",
       "    np.float64(0.0010322391467407711)),\n",
       "   'Qlocal': (np.float64(0.10001809539257533),\n",
       "    np.float64(0.002001014100452946)),\n",
       "   'cont_ls': (array([0.93135454, 0.91039158, 0.87825185, 0.831341  , 0.74923995]),\n",
       "    array([0.00316594, 0.00353948, 0.00313003, 0.00332986, 0.00291319])),\n",
       "   'kmax': (np.float64(26.666666666666668), np.float64(2.0548046676563256)),\n",
       "   'nn_overlap': array([ 3.49502488,  6.27363184,  8.76368159, 10.94900498, 12.44975124]),\n",
       "   'nn_overlap_best': np.float64(10.949004975124378),\n",
       "   'trust_ls': (array([0.62702418, 0.62651865, 0.62430933, 0.62065592, 0.61079466]),\n",
       "    array([0.00061936, 0.00158706, 0.00116849, 0.0012529 , 0.00093156]))},\n",
       "  'coordinates': array([[-4.0493141 ,  2.554923  ],\n",
       "         [-2.80393281, -0.27082938],\n",
       "         [ 1.54510978, -0.40870207],\n",
       "         ...,\n",
       "         [-3.08403144, -1.16329076],\n",
       "         [ 3.97295458,  2.69960345],\n",
       "         [ 4.96260423, -1.8490566 ]])},\n",
       " 't-SNE': {'metrics': {'AUC': (np.float64(0.5638067788049063),\n",
       "    np.float64(0.0006837960465979139)),\n",
       "   'LCMC': (array([ 4.17999840e-01,  4.95133013e-01,  5.34355075e-01, ...,\n",
       "           -6.41025333e-07, -1.60192179e-07,  0.00000000e+00]),\n",
       "    array([0.00474412, 0.00543895, 0.00373069, ..., 0.        , 0.        ,\n",
       "           0.        ])),\n",
       "   'QNN': (array([0.4184    , 0.49593333, 0.53555556, ..., 0.99919904, 0.99959968,\n",
       "           1.        ]),\n",
       "    array([0.00474412, 0.00543895, 0.00373069, ..., 0.        , 0.        ,\n",
       "           0.        ])),\n",
       "   'Qglobal': (np.float64(0.5639558728402073),\n",
       "    np.float64(0.0006890427989661616)),\n",
       "   'Qlocal': (np.float64(0.5253257208994709),\n",
       "    np.float64(0.007422988556381797)),\n",
       "   'cont_ls': (array([0.9865661 , 0.9729497 , 0.94577545, 0.89935645, 0.82474069]),\n",
       "    array([0.00080722, 0.00077638, 0.00276327, 0.00483269, 0.00180253])),\n",
       "   'kmax': (np.float64(6.333333333333333), np.float64(1.247219128924647)),\n",
       "   'nn_overlap': array([47.02736318, 55.02487562, 59.05223881, 54.65174129, 38.97661692]),\n",
       "   'nn_overlap_best': np.float64(54.65174129353234),\n",
       "   'trust_ls': (array([0.96613363, 0.94250384, 0.9009817 , 0.83963434, 0.72994414]),\n",
       "    array([0.00099289, 0.00198692, 0.00280918, 0.00395622, 0.00485919]))},\n",
       "  'coordinates': array([[ -8.45924621,  -0.17463213],\n",
       "         [ -9.98365995,  23.94652125],\n",
       "         [ 16.00707448,   5.94048683],\n",
       "         ...,\n",
       "         [-11.86781213,  11.1358959 ],\n",
       "         [ -1.60256372, -26.60688747],\n",
       "         [ 24.95842712,   0.07168053]])},\n",
       " 'UMAP': {'metrics': {'AUC': (np.float64(0.5538497756093919),\n",
       "    np.float64(0.00033603170172087675)),\n",
       "   'LCMC': (array([ 2.21466507e-01,  3.25266347e-01,  3.86843964e-01, ...,\n",
       "           -6.41025333e-07, -1.60192179e-07,  0.00000000e+00]),\n",
       "    array([0.00709804, 0.00151731, 0.00216185, ..., 0.        , 0.        ,\n",
       "           0.        ])),\n",
       "   'QNN': (array([0.22186667, 0.32606667, 0.38804444, ..., 0.99919904, 0.99959968,\n",
       "           1.        ]),\n",
       "    array([0.00709804, 0.00151731, 0.00216185, ..., 0.        , 0.        ,\n",
       "           0.        ])),\n",
       "   'Qglobal': (np.float64(0.5543539106988744),\n",
       "    np.float64(0.0003276214331755217)),\n",
       "   'Qlocal': (np.float64(0.4299900241034685), np.float64(0.00472904996734964)),\n",
       "   'cont_ls': (array([0.98764844, 0.97621213, 0.95129219, 0.90206649, 0.82259391]),\n",
       "    array([0.00148822, 0.00128106, 0.00197058, 0.00308771, 0.0007649 ])),\n",
       "   'kmax': (np.float64(9.666666666666666), np.float64(0.4714045207910317)),\n",
       "   'nn_overlap': array([25.88308458, 40.41293532, 50.35074627, 50.63930348, 38.10995025]),\n",
       "   'nn_overlap_best': np.float64(50.63930348258706),\n",
       "   'trust_ls': (array([0.93524745, 0.92158247, 0.88718663, 0.8265826 , 0.71957462]),\n",
       "    array([0.00312836, 0.0026857 , 0.00301334, 0.00383867, 0.00250926]))},\n",
       "  'coordinates': array([[ 3.68426943,  2.48586345],\n",
       "         [-7.22432613,  1.5551182 ],\n",
       "         [ 4.43059587,  6.11414385],\n",
       "         ...,\n",
       "         [ 2.46120238,  2.89045095],\n",
       "         [15.75660038,  8.81297207],\n",
       "         [ 7.86084461,  4.80492449]])},\n",
       " 'GTM': {'metrics': {'AUC': (np.float64(0.5500031526010728),\n",
       "    np.float64(0.0011468768237340582)),\n",
       "   'LCMC': (array([ 1.96799840e-01,  2.68066347e-01,  3.14577298e-01, ...,\n",
       "           -6.41025333e-07, -1.60192179e-07,  0.00000000e+00]),\n",
       "    array([0.00331461, 0.00288598, 0.00059959, ..., 0.        , 0.        ,\n",
       "           0.        ])),\n",
       "   'QNN': (array([0.1972    , 0.26886667, 0.31577778, ..., 0.99919904, 0.99959968,\n",
       "           1.        ]),\n",
       "    array([0.00331461, 0.00288598, 0.00059959, ..., 0.        , 0.        ,\n",
       "           0.        ])),\n",
       "   'Qglobal': (np.float64(0.5508438024693924),\n",
       "    np.float64(0.001168013036485056)),\n",
       "   'Qlocal': (np.float64(0.37397280137851574),\n",
       "    np.float64(0.008849332304236741)),\n",
       "   'cont_ls': (array([0.94453878, 0.91087557, 0.85619383, 0.7691142 , 0.65581518]),\n",
       "    array([0.00091711, 0.00162893, 0.00776408, 0.01453911, 0.01409467])),\n",
       "   'kmax': (np.float64(12.0), np.float64(1.4142135623730951)),\n",
       "   'nn_overlap': array([21.66666667, 32.71641791, 40.85820896, 44.24502488, 37.74328358]),\n",
       "   'nn_overlap_best': np.float64(44.245024875621894),\n",
       "   'trust_ls': (array([0.92048791, 0.90697822, 0.88280753, 0.84308328, 0.76545283]),\n",
       "    array([0.00343822, 0.00261552, 0.00170346, 0.00345915, 0.00182772]))},\n",
       "  'coordinates': array([[-1.68874953, -0.38985498],\n",
       "         [ 1.60263902,  1.25547549],\n",
       "         [ 0.12990486,  0.47632777],\n",
       "         ...,\n",
       "         [ 1.68874929,  0.64952827],\n",
       "         [ 0.56291655,  0.99592959],\n",
       "         [ 0.73720444,  0.56363739]])}}"
      ]
     },
     "execution_count": 15,
     "metadata": {},
     "output_type": "execute_result"
    }
   ],
   "source": [
    "results"
   ]
  },
  {
   "cell_type": "code",
   "execution_count": null,
   "id": "c06fb1d2-422f-4a57-8d12-0f0f9884f8f6",
   "metadata": {},
   "outputs": [],
   "source": []
  }
 ],
 "metadata": {
  "kernelspec": {
   "display_name": "Python 3 (ipykernel)",
   "language": "python",
   "name": "python3"
  },
  "language_info": {
   "codemirror_mode": {
    "name": "ipython",
    "version": 3
   },
   "file_extension": ".py",
   "mimetype": "text/x-python",
   "name": "python",
   "nbconvert_exporter": "python",
   "pygments_lexer": "ipython3",
   "version": "3.11.5"
  }
 },
 "nbformat": 4,
 "nbformat_minor": 5
}
