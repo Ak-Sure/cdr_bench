{
 "cells": [
  {
   "cell_type": "code",
   "execution_count": 1,
   "id": "bd113957-c0bb-4b9a-aa96-de796138a76b",
   "metadata": {},
   "outputs": [],
   "source": [
    "%load_ext autoreload\n",
    "%autoreload 2\n",
    "import torch\n",
    "from rdkit.Chem import AllChem, MACCSkeys, rdMolDescriptors\n",
    "from src.cdr_bench.io_utils.io import read_features_hdf5_dataframe, read_optimization_results, check_hdf5_file_format"
   ]
  },
  {
   "cell_type": "markdown",
   "id": "b2a11aa6-ce69-46d4-b799-053065ae4336",
   "metadata": {},
   "source": [
    "# Prepare features for optimization"
   ]
  },
  {
   "cell_type": "code",
   "execution_count": null,
   "id": "23c586cc-bf88-46e3-8e2f-978ac5520792",
   "metadata": {},
   "outputs": [],
   "source": [
    "model_params = {\n",
    "    'edge_in_feats': 12,\n",
    "    'embed_size': 16,\n",
    "    'node_in_feats': 74\n",
    "}\n",
    "\n",
    "NF = CanonicalAtomFeaturizer()\n",
    "BF = CanonicalBondFeaturizer()\n",
    "\n",
    "# Assuming your .pt file path is 'model.pt' and contains a state_dict\n",
    "model_path = '/home/aorlov/Programs/ChemDist_paper/Model/model_trained.pt'\n",
    "\n",
    "# Create an instance of your model\n",
    "model = DistanceNetworkLigthning(**model_params)\n",
    "\n",
    "# Load the state dictionary\n",
    "state_dict = torch.load(model_path)#, map_location=torch.device('cpu'))\n",
    "\n",
    "# If your saved model was a PyTorch Lightning model, state_dict might be under 'state_dict' key\n",
    "if 'state_dict' in state_dict:\n",
    "    model.load_state_dict(state_dict['state_dict'])\n",
    "else:\n",
    "    model.load_state_dict(state_dict)\n",
    "\n",
    "# Ensure the model is in evaluation mode\n",
    "model.eval()\n",
    "\n",
    "model.cuda()"
   ]
  },
  {
   "cell_type": "markdown",
   "id": "ddcaf5e3b5fb1acf",
   "metadata": {},
   "source": [
    "# Generate features for optimization"
   ]
  },
  {
   "cell_type": "code",
   "execution_count": null,
   "id": "1240067b-2176-40e9-9604-62b0ba2ce964",
   "metadata": {},
   "outputs": [],
   "source": []
  },
  {
   "cell_type": "code",
   "execution_count": null,
   "id": "f87c6dac-a18a-4b14-bfba-691475e9230b",
   "metadata": {},
   "outputs": [],
   "source": []
  },
  {
   "cell_type": "markdown",
   "id": "9eeb12c7-e1c7-4efd-a2d3-2e386c732686",
   "metadata": {},
   "source": [
    "# HDF5 File Structure (CHEMBL204.h5)\n",
    "\n",
    "This HDF5 file contains chemical compound data along with several molecular features. The structure of the file is organized into two main sections: **Dataset and SMILES** and **Features**.\n",
    "\n",
    "## 1. Dataset and SMILES (smi)\n",
    "- **dataset**: Contains identifiers for chemical compounds (e.g., \"CHEMBL204\").\n",
    "- **smi**: Contains SMILES strings representing the chemical structure of compounds.\n",
    "\n",
    "## 2. Features\n",
    "The features section contains several key molecular features:\n",
    "- **embed**: A numerical feature representation of the chemical compounds. These are lists of floating-point numbers.\n",
    "- **maccs_keys**: A list of MACCS molecular fingerprints. These are binary fingerprints indicating the presence or absence of certain molecular features (0s and 1s).\n",
    "- **mfp_r2_1024**: A list of Morgan molecular fingerprints (radius 2, 1024 bits). These are used to encode molecular substructures as lists of integers.\n",
    "\n",
    "## Overview of Data\n",
    "- The dataset contains **4020 rows**, each representing a distinct chemical compound.\n",
    "- Each row has the following columns:\n",
    "  - **dataset**: The compound identifier.\n",
    "  - **smi**: The SMILES string of the compound.\n",
    "  - **embed**: Numerical embeddings for each compound, stored as lists of floating-point numbers.\n",
    "  - **maccs_keys**: Binary MACCS molecular keys, stored as lists of integers.\n",
    "  - **mfp_r2_1024**: Morgan molecular fingerprints (1024-bit), stored as lists of integers.\n",
    "\n",
    "Each of these feature columns provides a different numerical or categorical representation of the molecular structure for machine learning or chemical informatics analysis.\n"
   ]
  },
  {
   "cell_type": "code",
   "execution_count": 11,
   "id": "38e257945b2020e1",
   "metadata": {},
   "outputs": [],
   "source": [
    "df_features = read_features_hdf5_dataframe('../datasets/CHEMBL33.h5')"
   ]
  },
  {
   "cell_type": "code",
   "execution_count": 12,
   "id": "c6f0ac95-6ca3-41e3-984a-88dc6c33e5b6",
   "metadata": {},
   "outputs": [
    {
     "data": {
      "text/html": [
       "<div>\n",
       "<style scoped>\n",
       "    .dataframe tbody tr th:only-of-type {\n",
       "        vertical-align: middle;\n",
       "    }\n",
       "\n",
       "    .dataframe tbody tr th {\n",
       "        vertical-align: top;\n",
       "    }\n",
       "\n",
       "    .dataframe thead th {\n",
       "        text-align: right;\n",
       "    }\n",
       "</style>\n",
       "<table border=\"1\" class=\"dataframe\">\n",
       "  <thead>\n",
       "    <tr style=\"text-align: right;\">\n",
       "      <th></th>\n",
       "      <th>dataset</th>\n",
       "      <th>smi</th>\n",
       "      <th>RDKit_fp</th>\n",
       "    </tr>\n",
       "  </thead>\n",
       "  <tbody>\n",
       "    <tr>\n",
       "      <th>0</th>\n",
       "      <td>b'CHEMBL33'</td>\n",
       "      <td>b'BrC1CCC(Br)C(Br)CCC(Br)C(Br)CCC1Br'</td>\n",
       "      <td>[0, 0, 0, 0, 0, 0, 0, 0, 0, 0, 0, 0, 0, 0, 0, ...</td>\n",
       "    </tr>\n",
       "    <tr>\n",
       "      <th>1</th>\n",
       "      <td>b'CHEMBL33'</td>\n",
       "      <td>b'BrCCCCCCBr'</td>\n",
       "      <td>[0, 0, 0, 0, 0, 0, 0, 0, 0, 0, 0, 0, 0, 0, 0, ...</td>\n",
       "    </tr>\n",
       "    <tr>\n",
       "      <th>2</th>\n",
       "      <td>b'CHEMBL33'</td>\n",
       "      <td>b'BrCc1cc(Br)c2cc(NBr)c(Br)c(Br)c2c1'</td>\n",
       "      <td>[0, 0, 0, 0, 0, 0, 0, 0, 0, 0, 0, 0, 0, 1, 0, ...</td>\n",
       "    </tr>\n",
       "    <tr>\n",
       "      <th>3</th>\n",
       "      <td>b'CHEMBL33'</td>\n",
       "      <td>b'BrCc1cc(Br)c2cc(NBr)c(Br)cc2c1Br'</td>\n",
       "      <td>[0, 0, 0, 0, 0, 0, 0, 0, 0, 0, 0, 0, 0, 1, 0, ...</td>\n",
       "    </tr>\n",
       "    <tr>\n",
       "      <th>4</th>\n",
       "      <td>b'CHEMBL33'</td>\n",
       "      <td>b'BrCc1cc2cc(Br)c(NBr)cc2c(Br)c1Br'</td>\n",
       "      <td>[0, 0, 0, 0, 0, 0, 0, 0, 0, 0, 0, 0, 0, 1, 0, ...</td>\n",
       "    </tr>\n",
       "  </tbody>\n",
       "</table>\n",
       "</div>"
      ],
      "text/plain": [
       "       dataset                                    smi  \\\n",
       "0  b'CHEMBL33'  b'BrC1CCC(Br)C(Br)CCC(Br)C(Br)CCC1Br'   \n",
       "1  b'CHEMBL33'                          b'BrCCCCCCBr'   \n",
       "2  b'CHEMBL33'  b'BrCc1cc(Br)c2cc(NBr)c(Br)c(Br)c2c1'   \n",
       "3  b'CHEMBL33'    b'BrCc1cc(Br)c2cc(NBr)c(Br)cc2c1Br'   \n",
       "4  b'CHEMBL33'    b'BrCc1cc2cc(Br)c(NBr)cc2c(Br)c1Br'   \n",
       "\n",
       "                                            RDKit_fp  \n",
       "0  [0, 0, 0, 0, 0, 0, 0, 0, 0, 0, 0, 0, 0, 0, 0, ...  \n",
       "1  [0, 0, 0, 0, 0, 0, 0, 0, 0, 0, 0, 0, 0, 0, 0, ...  \n",
       "2  [0, 0, 0, 0, 0, 0, 0, 0, 0, 0, 0, 0, 0, 1, 0, ...  \n",
       "3  [0, 0, 0, 0, 0, 0, 0, 0, 0, 0, 0, 0, 0, 1, 0, ...  \n",
       "4  [0, 0, 0, 0, 0, 0, 0, 0, 0, 0, 0, 0, 0, 1, 0, ...  "
      ]
     },
     "execution_count": 12,
     "metadata": {},
     "output_type": "execute_result"
    }
   ],
   "source": [
    "df_features.head()\n"
   ]
  },
  {
   "cell_type": "code",
   "execution_count": 16,
   "id": "5b96e3a3",
   "metadata": {},
   "outputs": [
    {
     "data": {
      "text/plain": [
       "0"
      ]
     },
     "execution_count": 16,
     "metadata": {},
     "output_type": "execute_result"
    }
   ],
   "source": [
    "df_features['mfp_r2_1024'][0][50]"
   ]
  },
  {
   "cell_type": "code",
   "execution_count": null,
   "id": "73823b52-33a8-4f3a-81fe-aa51b77963d3",
   "metadata": {},
   "outputs": [],
   "source": []
  },
  {
   "cell_type": "markdown",
   "id": "f7388667-bd9a-47e5-b85b-52041138c8c6",
   "metadata": {},
   "source": [
    "# Read optimization results"
   ]
  },
  {
   "cell_type": "markdown",
   "id": "bcf107ac-6391-4a1e-a7d1-568120d2ac6f",
   "metadata": {},
   "source": [
    "## HDF5 File Structure (ambient_dist_and_PCA_results.h5)\n",
    "\n",
    "This HDF5 file contains datasets related to high-dimensional data and the results of Principal Component Analysis (PCA) performed on this data.\n",
    "\n",
    "### Datasets\n",
    "1. **X_HD**: \n",
    "   - A high-dimensional dataset with a shape of **(4020, 1024)**.\n",
    "   - It contains 4020 samples, each with 1024 features.\n",
    "   - This is the original high-dimensional feature representation of the data.\n",
    "\n",
    "2. **X_PCA**: \n",
    "   - A PCA-transformed dataset with a shape of **(4020, 2)**.\n",
    "   - It contains the same 4020 samples, but each sample has been reduced to 2 principal components using PCA.\n",
    "   - This reduced dataset is typically used for visualization or as input for further machine learning analysis.\n",
    "\n",
    "The file likely stores high-dimensional data and the results of PCA to enable comparison between the original and PCA-reduced data.\n"
   ]
  },
  {
   "cell_type": "markdown",
   "id": "d6d7559b-d2bd-4076-8d25-fd6dfa3074b7",
   "metadata": {},
   "source": [
    "## HDF5 File Structure (mfp_r2_1024.h5)\n",
    "\n",
    "This HDF5 file contains datasets and groups related to various dimensionality reduction techniques applied to the Morgan Fingerprint (radius 2, 1024 bits).\n",
    "\n",
    "### Datasets and Groups:\n",
    "\n",
    "1. **GTM_coordinates**:\n",
    "   - Coordinates of the data after applying Generative Topographic Mapping (GTM).\n",
    "\n",
    "2. **GTM_metrics**:\n",
    "   - Metrics related to neighborhood preservation.\n",
    "\n",
    "3. **PCA_coordinates**:\n",
    "   - Coordinates of the data after applying Principal Component Analysis (PCA).\n",
    "\n",
    "4. **PCA_metrics**:\n",
    "   - Metrics related to neighborhood preservation.\n",
    "\n",
    "5. **UMAP_coordinates**:\n",
    "   - Coordinates after applying Uniform Manifold Approximation and Projection (UMAP).\n",
    "\n",
    "6. **UMAP_metrics**:\n",
    "   - Metrics related to neighborhood preservation.\n",
    "\n",
    "7. **dataframe**:\n",
    "   - A tabular dataset, containing information related to the features or molecules analyzed in the file.\n",
    "\n",
    "8. **mfp_r2_1024**:\n",
    "   - The original Morgan Fingerprint dataset (radius 2, 1024 bits).\n",
    "   - It encodes molecular features in a binary vector format, used for cheminformatics and molecular modeling.\n",
    "\n",
    "9. **t-SNE_coordinates**:\n",
    "   - Coordinates after applying t-Distributed Stochastic Neighbor Embedding (t-SNE).\n",
    "\n",
    "10. **t-SNE_metrics**:\n",
    "   - Metrics related to neighborhood preservation.\n",
    "\n",
    "This file organizes molecular data and its corresponding projections in various dimensionality reduction methods, enabling analysis and comparison of the techniques.\n"
   ]
  },
  {
   "cell_type": "code",
   "execution_count": 18,
   "id": "c64264b7-bb44-44f1-ad43-ead58aac6c8d",
   "metadata": {},
   "outputs": [],
   "source": [
    "file_path = r'C:\\Users\\akash\\OneDrive\\Desktop\\DR\\New_DR\\cdr_bench\\Output2\\CHEMBL33\\mfp_r2_1024\\mfp_r2_1024.h5'\n",
    "descriptor_set = 'mfp_r2_1024'\n",
    "methods_to_extract = ['PCA']\n",
    "df, fp_array, results = read_optimization_results(file_path, feature_name=descriptor_set, method_names=methods_to_extract)"
   ]
  },
  {
   "cell_type": "code",
   "execution_count": 19,
   "id": "1acd5aff-c40b-4f7b-81c9-635f2e5cd773",
   "metadata": {},
   "outputs": [
    {
     "data": {
      "text/html": [
       "<div>\n",
       "<style scoped>\n",
       "    .dataframe tbody tr th:only-of-type {\n",
       "        vertical-align: middle;\n",
       "    }\n",
       "\n",
       "    .dataframe tbody tr th {\n",
       "        vertical-align: top;\n",
       "    }\n",
       "\n",
       "    .dataframe thead th {\n",
       "        text-align: right;\n",
       "    }\n",
       "</style>\n",
       "<table border=\"1\" class=\"dataframe\">\n",
       "  <thead>\n",
       "    <tr style=\"text-align: right;\">\n",
       "      <th></th>\n",
       "      <th>dataset</th>\n",
       "      <th>smi</th>\n",
       "    </tr>\n",
       "  </thead>\n",
       "  <tbody>\n",
       "    <tr>\n",
       "      <th>0</th>\n",
       "      <td>CHEMBL33</td>\n",
       "      <td>BrC1CCC(Br)C(Br)CCC(Br)C(Br)CCC1Br</td>\n",
       "    </tr>\n",
       "    <tr>\n",
       "      <th>1</th>\n",
       "      <td>CHEMBL33</td>\n",
       "      <td>BrCCCCCCBr</td>\n",
       "    </tr>\n",
       "    <tr>\n",
       "      <th>2</th>\n",
       "      <td>CHEMBL33</td>\n",
       "      <td>BrCc1cc(Br)c2cc(NBr)c(Br)c(Br)c2c1</td>\n",
       "    </tr>\n",
       "    <tr>\n",
       "      <th>3</th>\n",
       "      <td>CHEMBL33</td>\n",
       "      <td>BrCc1cc(Br)c2cc(NBr)c(Br)cc2c1Br</td>\n",
       "    </tr>\n",
       "    <tr>\n",
       "      <th>4</th>\n",
       "      <td>CHEMBL33</td>\n",
       "      <td>BrCc1cc2cc(Br)c(NBr)cc2c(Br)c1Br</td>\n",
       "    </tr>\n",
       "  </tbody>\n",
       "</table>\n",
       "</div>"
      ],
      "text/plain": [
       "    dataset                                 smi\n",
       "0  CHEMBL33  BrC1CCC(Br)C(Br)CCC(Br)C(Br)CCC1Br\n",
       "1  CHEMBL33                          BrCCCCCCBr\n",
       "2  CHEMBL33  BrCc1cc(Br)c2cc(NBr)c(Br)c(Br)c2c1\n",
       "3  CHEMBL33    BrCc1cc(Br)c2cc(NBr)c(Br)cc2c1Br\n",
       "4  CHEMBL33    BrCc1cc2cc(Br)c(NBr)cc2c(Br)c1Br"
      ]
     },
     "execution_count": 19,
     "metadata": {},
     "output_type": "execute_result"
    }
   ],
   "source": [
    "df.head()"
   ]
  },
  {
   "cell_type": "code",
   "execution_count": 20,
   "id": "597e537d-2c63-4659-a6d0-7b6bada53b08",
   "metadata": {},
   "outputs": [
    {
     "data": {
      "text/plain": [
       "(1253, 2048)"
      ]
     },
     "execution_count": 20,
     "metadata": {},
     "output_type": "execute_result"
    }
   ],
   "source": [
    "fp_array.shape"
   ]
  },
  {
   "cell_type": "code",
   "execution_count": 21,
   "id": "fe6df27d-021e-40bb-93bc-d39beed4ce1a",
   "metadata": {},
   "outputs": [
    {
     "data": {
      "text/plain": [
       "{'PCA': {'metrics': {'AUC': np.float64(0.7490751579907181),\n",
       "   'LCMC': array([2.00318596e-01, 2.05904551e-01, 2.11224478e-01, ...,\n",
       "          7.54666755e-04, 3.82723432e-06, 0.00000000e+00]),\n",
       "   'QNN': array([0.20111732, 0.207502  , 0.21362064, ..., 0.99915722, 0.99920511,\n",
       "          1.        ]),\n",
       "   'Qglobal': np.float64(0.821823994058668),\n",
       "   'Qlocal': np.float64(0.4391937678192743),\n",
       "   'cont_ls': array([0.97046352, 0.96007936, 0.95046278, 0.93980193, 0.92414277]),\n",
       "   'kmax': np.int64(237),\n",
       "   'nn_overlap': array([20.75019952, 22.60175579, 23.74301676, 26.36073424, 34.13407821]),\n",
       "   'nn_overlap_best': np.float64(26.36073423782921),\n",
       "   'trust_ls': array([0.86401232, 0.8531832 , 0.84696975, 0.83999683, 0.8397765 ])},\n",
       "  'coordinates': array([[ -2.12014389,   1.08764101],\n",
       "         [ -2.26125522,   1.41243534],\n",
       "         [ -2.42520217,   0.01348121],\n",
       "         ...,\n",
       "         [  5.04943598,  -7.9835993 ],\n",
       "         [  5.10513373, -10.10171932],\n",
       "         [  5.05167446,  -9.46756859]])}}"
      ]
     },
     "execution_count": 21,
     "metadata": {},
     "output_type": "execute_result"
    }
   ],
   "source": [
    "results"
   ]
  },
  {
   "cell_type": "code",
   "execution_count": null,
   "id": "c06fb1d2-422f-4a57-8d12-0f0f9884f8f6",
   "metadata": {},
   "outputs": [],
   "source": []
  }
 ],
 "metadata": {
  "kernelspec": {
   "display_name": "Python 3",
   "language": "python",
   "name": "python3"
  },
  "language_info": {
   "codemirror_mode": {
    "name": "ipython",
    "version": 3
   },
   "file_extension": ".py",
   "mimetype": "text/x-python",
   "name": "python",
   "nbconvert_exporter": "python",
   "pygments_lexer": "ipython3",
   "version": "3.11.9"
  }
 },
 "nbformat": 4,
 "nbformat_minor": 5
}
